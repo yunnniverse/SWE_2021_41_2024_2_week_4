{
  "nbformat": 4,
  "nbformat_minor": 0,
  "metadata": {
    "colab": {
      "provenance": []
    },
    "kernelspec": {
      "name": "python3",
      "display_name": "Python 3"
    },
    "language_info": {
      "name": "python"
    }
  },
  "cells": [
    {
      "cell_type": "code",
      "execution_count": 9,
      "metadata": {
        "colab": {
          "base_uri": "https://localhost:8080/"
        },
        "id": "laGCotyI5UaO",
        "outputId": "e6c88f14-e098-4692-8ce7-ada6b69aa90f"
      },
      "outputs": [
        {
          "output_type": "stream",
          "name": "stdout",
          "text": [
            "Enter a number: 127312937\n",
            "False\n"
          ]
        }
      ],
      "source": [
        "def isHappy(n):\n",
        "    arr = [False] * 2593  # 배열 초기화\n",
        "    sum = 0\n",
        "\n",
        "    while True:\n",
        "        while n > 0:\n",
        "            digit = n % 10  # 자리수 구하기\n",
        "            sum += digit ** 2  # 자리수 제곱 더하기\n",
        "            n //= 10  # n을 10으로 나눈 몫으로 갱신\n",
        "\n",
        "        if sum == 1:  # 해피 넘버\n",
        "            return True\n",
        "        elif arr[sum] == True:  # 무한 루프 방지\n",
        "            return False\n",
        "        else:\n",
        "            arr[sum] = True  # 체크된 수 저장\n",
        "\n",
        "        n = sum  # n을 새로 구한 sum으로 갱신\n",
        "        sum = 0  # sum 초기화\n",
        "\n",
        "# Colab에서 숫자를 입력받기\n",
        "n = int(input(\"Enter a number: \"))  # 사용자로부터 숫자를 입력받음\n",
        "\n",
        "# isHappy 함수 실행\n",
        "if isHappy(n):\n",
        "    print(\"True\")\n",
        "else:\n",
        "    print(\"False\")"
      ]
    }
  ]
}